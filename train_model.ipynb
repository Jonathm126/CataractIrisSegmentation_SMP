{
 "cells": [
  {
   "cell_type": "code",
   "execution_count": 1,
   "metadata": {},
   "outputs": [],
   "source": [
    "%load_ext autoreload\n",
    "%autoreload 2"
   ]
  },
  {
   "cell_type": "code",
   "execution_count": 2,
   "metadata": {},
   "outputs": [],
   "source": [
    "# torch\n",
    "import torch\n",
    "from torch.utils.data import DataLoader\n",
    "from pytorch_lightning.loggers import CSVLogger\n",
    "\n",
    "# utils\n",
    "import random\n",
    "\n",
    "# custom utils\n",
    "from datasets.dataset import *\n",
    "from helper_utils import display_utils, my_utils\n",
    "from models.smp_model import CatSegModel\n",
    "from models.model_utils import build_trainer, infer_set"
   ]
  },
  {
   "cell_type": "code",
   "execution_count": 3,
   "metadata": {},
   "outputs": [],
   "source": [
    "# setup\n",
    "torch.set_float32_matmul_precision('high')\n",
    "device = torch.device(\"cuda\" if torch.cuda.is_available() else \"cpu\")\n",
    "\n",
    "    \n",
    "# torch setup\n",
    "os.environ['TORCH_HOME'] = 'models/torch'"
   ]
  },
  {
   "cell_type": "markdown",
   "metadata": {},
   "source": [
    "#### Configuration\n",
    "Load Configuration:"
   ]
  },
  {
   "cell_type": "code",
   "execution_count": 4,
   "metadata": {},
   "outputs": [
    {
     "data": {
      "text/html": [
       "<div>\n",
       "<style scoped>\n",
       "    .dataframe tbody tr th:only-of-type {\n",
       "        vertical-align: middle;\n",
       "    }\n",
       "\n",
       "    .dataframe tbody tr th {\n",
       "        vertical-align: top;\n",
       "    }\n",
       "\n",
       "    .dataframe thead th {\n",
       "        text-align: right;\n",
       "    }\n",
       "</style>\n",
       "<table border=\"1\" class=\"dataframe\">\n",
       "  <thead>\n",
       "    <tr style=\"text-align: right;\">\n",
       "      <th></th>\n",
       "      <th>Key</th>\n",
       "      <th>Value</th>\n",
       "    </tr>\n",
       "  </thead>\n",
       "  <tbody>\n",
       "    <tr>\n",
       "      <th>0</th>\n",
       "      <td>NAME</td>\n",
       "      <td>Unet_resnet34_pretrained_Tv1_DiceLoss</td>\n",
       "    </tr>\n",
       "    <tr>\n",
       "      <th>1</th>\n",
       "      <td>MODE</td>\n",
       "      <td>load</td>\n",
       "    </tr>\n",
       "  </tbody>\n",
       "</table>\n",
       "</div>"
      ],
      "text/plain": [
       "    Key                                  Value\n",
       "0  NAME  Unet_resnet34_pretrained_Tv1_DiceLoss\n",
       "1  MODE                                   load"
      ]
     },
     "metadata": {},
     "output_type": "display_data"
    }
   ],
   "source": [
    "config_name = \"Unet_resnet34_load.json\"\n",
    "paths, config = my_utils.load_configs(config_name, 'paths_pc.json') # select paths file\n",
    "from models.transforms import data_transforms_v1 as data_transforms # select the correct transform!"
   ]
  },
  {
   "cell_type": "markdown",
   "metadata": {},
   "source": [
    "Print Transforms:"
   ]
  },
  {
   "cell_type": "code",
   "execution_count": 5,
   "metadata": {},
   "outputs": [
    {
     "name": "stdout",
     "output_type": "stream",
     "text": [
      "Transforms for infer set:\n"
     ]
    },
    {
     "data": {
      "text/html": [
       "<div>\n",
       "<style scoped>\n",
       "    .dataframe tbody tr th:only-of-type {\n",
       "        vertical-align: middle;\n",
       "    }\n",
       "\n",
       "    .dataframe tbody tr th {\n",
       "        vertical-align: top;\n",
       "    }\n",
       "\n",
       "    .dataframe thead th {\n",
       "        text-align: right;\n",
       "    }\n",
       "</style>\n",
       "<table border=\"1\" class=\"dataframe\">\n",
       "  <thead>\n",
       "    <tr style=\"text-align: right;\">\n",
       "      <th></th>\n",
       "      <th>Set</th>\n",
       "      <th>Transform</th>\n",
       "      <th>Details</th>\n",
       "    </tr>\n",
       "  </thead>\n",
       "  <tbody>\n",
       "    <tr>\n",
       "      <th>0</th>\n",
       "      <td>infer</td>\n",
       "      <td>ToImage</td>\n",
       "      <td>ToImage()</td>\n",
       "    </tr>\n",
       "    <tr>\n",
       "      <th>1</th>\n",
       "      <td>infer</td>\n",
       "      <td>Resize</td>\n",
       "      <td>Resize(size=[384, 608], interpolation=InterpolationMode.BILINEAR, antialias=True)</td>\n",
       "    </tr>\n",
       "    <tr>\n",
       "      <th>2</th>\n",
       "      <td>infer</td>\n",
       "      <td>Pad</td>\n",
       "      <td>Pad(padding=[16, 128, 16, 128], fill=[0.5, 0.5, 0.5], padding_mode=constant)</td>\n",
       "    </tr>\n",
       "    <tr>\n",
       "      <th>3</th>\n",
       "      <td>infer</td>\n",
       "      <td>CenterCrop</td>\n",
       "      <td>CenterCrop(size=(640, 640))</td>\n",
       "    </tr>\n",
       "    <tr>\n",
       "      <th>4</th>\n",
       "      <td>infer</td>\n",
       "      <td>ToDtype</td>\n",
       "      <td>ToDtype(scale=True)</td>\n",
       "    </tr>\n",
       "  </tbody>\n",
       "</table>\n",
       "</div>"
      ],
      "text/plain": [
       "     Set   Transform  \\\n",
       "0  infer     ToImage   \n",
       "1  infer      Resize   \n",
       "2  infer         Pad   \n",
       "3  infer  CenterCrop   \n",
       "4  infer     ToDtype   \n",
       "\n",
       "                                                                             Details  \n",
       "0                                                                          ToImage()  \n",
       "1  Resize(size=[384, 608], interpolation=InterpolationMode.BILINEAR, antialias=True)  \n",
       "2       Pad(padding=[16, 128, 16, 128], fill=[0.5, 0.5, 0.5], padding_mode=constant)  \n",
       "3                                                        CenterCrop(size=(640, 640))  \n",
       "4                                                                ToDtype(scale=True)  "
      ]
     },
     "metadata": {},
     "output_type": "display_data"
    },
    {
     "name": "stdout",
     "output_type": "stream",
     "text": [
      "\n",
      "\n",
      "Transforms for train set:\n"
     ]
    },
    {
     "data": {
      "text/html": [
       "<div>\n",
       "<style scoped>\n",
       "    .dataframe tbody tr th:only-of-type {\n",
       "        vertical-align: middle;\n",
       "    }\n",
       "\n",
       "    .dataframe tbody tr th {\n",
       "        vertical-align: top;\n",
       "    }\n",
       "\n",
       "    .dataframe thead th {\n",
       "        text-align: right;\n",
       "    }\n",
       "</style>\n",
       "<table border=\"1\" class=\"dataframe\">\n",
       "  <thead>\n",
       "    <tr style=\"text-align: right;\">\n",
       "      <th></th>\n",
       "      <th>Set</th>\n",
       "      <th>Transform</th>\n",
       "      <th>Details</th>\n",
       "    </tr>\n",
       "  </thead>\n",
       "  <tbody>\n",
       "    <tr>\n",
       "      <th>0</th>\n",
       "      <td>train</td>\n",
       "      <td>ToImage</td>\n",
       "      <td>ToImage()</td>\n",
       "    </tr>\n",
       "    <tr>\n",
       "      <th>1</th>\n",
       "      <td>train</td>\n",
       "      <td>RandomVerticalFlip</td>\n",
       "      <td>RandomVerticalFlip(p=0.5)</td>\n",
       "    </tr>\n",
       "    <tr>\n",
       "      <th>2</th>\n",
       "      <td>train</td>\n",
       "      <td>RandomHorizontalFlip</td>\n",
       "      <td>RandomHorizontalFlip(p=0.5)</td>\n",
       "    </tr>\n",
       "    <tr>\n",
       "      <th>3</th>\n",
       "      <td>train</td>\n",
       "      <td>CustomPerspective</td>\n",
       "      <td>CustomPerspective(p=0.6, distortion_scale=0.2, interpolation=InterpolationMode.BILINEAR)</td>\n",
       "    </tr>\n",
       "    <tr>\n",
       "      <th>4</th>\n",
       "      <td>train</td>\n",
       "      <td>CenterCrop</td>\n",
       "      <td>CenterCrop(size=(620, 620))</td>\n",
       "    </tr>\n",
       "    <tr>\n",
       "      <th>5</th>\n",
       "      <td>train</td>\n",
       "      <td>RandomResizedCrop</td>\n",
       "      <td>RandomResizedCrop(size=(640, 640), scale=(0.7, 1.1), ratio=(0.75, 1.3333333333333333), interpolation=InterpolationMode.BILINEAR, antialias=True)</td>\n",
       "    </tr>\n",
       "    <tr>\n",
       "      <th>6</th>\n",
       "      <td>train</td>\n",
       "      <td>ColorJitter</td>\n",
       "      <td>ColorJitter(brightness=(0.7, 1.3), contrast=(0.7, 1.3), saturation=(0.7, 1.3), hue=(-0.1, 0.1))</td>\n",
       "    </tr>\n",
       "  </tbody>\n",
       "</table>\n",
       "</div>"
      ],
      "text/plain": [
       "     Set             Transform  \\\n",
       "0  train               ToImage   \n",
       "1  train    RandomVerticalFlip   \n",
       "2  train  RandomHorizontalFlip   \n",
       "3  train     CustomPerspective   \n",
       "4  train            CenterCrop   \n",
       "5  train     RandomResizedCrop   \n",
       "6  train           ColorJitter   \n",
       "\n",
       "                                                                                                                                            Details  \n",
       "0                                                                                                                                         ToImage()  \n",
       "1                                                                                                                         RandomVerticalFlip(p=0.5)  \n",
       "2                                                                                                                       RandomHorizontalFlip(p=0.5)  \n",
       "3                                                          CustomPerspective(p=0.6, distortion_scale=0.2, interpolation=InterpolationMode.BILINEAR)  \n",
       "4                                                                                                                       CenterCrop(size=(620, 620))  \n",
       "5  RandomResizedCrop(size=(640, 640), scale=(0.7, 1.1), ratio=(0.75, 1.3333333333333333), interpolation=InterpolationMode.BILINEAR, antialias=True)  \n",
       "6                                                   ColorJitter(brightness=(0.7, 1.3), contrast=(0.7, 1.3), saturation=(0.7, 1.3), hue=(-0.1, 0.1))  "
      ]
     },
     "metadata": {},
     "output_type": "display_data"
    },
    {
     "name": "stdout",
     "output_type": "stream",
     "text": [
      "\n",
      "\n",
      "Transforms for valid set:\n"
     ]
    },
    {
     "data": {
      "text/html": [
       "<div>\n",
       "<style scoped>\n",
       "    .dataframe tbody tr th:only-of-type {\n",
       "        vertical-align: middle;\n",
       "    }\n",
       "\n",
       "    .dataframe tbody tr th {\n",
       "        vertical-align: top;\n",
       "    }\n",
       "\n",
       "    .dataframe thead th {\n",
       "        text-align: right;\n",
       "    }\n",
       "</style>\n",
       "<table border=\"1\" class=\"dataframe\">\n",
       "  <thead>\n",
       "    <tr style=\"text-align: right;\">\n",
       "      <th></th>\n",
       "      <th>Set</th>\n",
       "      <th>Transform</th>\n",
       "      <th>Details</th>\n",
       "    </tr>\n",
       "  </thead>\n",
       "  <tbody>\n",
       "    <tr>\n",
       "      <th>0</th>\n",
       "      <td>valid</td>\n",
       "      <td>ToImage</td>\n",
       "      <td>ToImage()</td>\n",
       "    </tr>\n",
       "    <tr>\n",
       "      <th>1</th>\n",
       "      <td>valid</td>\n",
       "      <td>CenterCrop</td>\n",
       "      <td>CenterCrop(size=(640, 640))</td>\n",
       "    </tr>\n",
       "  </tbody>\n",
       "</table>\n",
       "</div>"
      ],
      "text/plain": [
       "     Set   Transform                      Details\n",
       "0  valid     ToImage                    ToImage()\n",
       "1  valid  CenterCrop  CenterCrop(size=(640, 640))"
      ]
     },
     "metadata": {},
     "output_type": "display_data"
    },
    {
     "name": "stdout",
     "output_type": "stream",
     "text": [
      "\n",
      "\n"
     ]
    },
    {
     "data": {
      "text/plain": [
       "<pandas.core.groupby.generic.DataFrameGroupBy object at 0x0000023AD8A98FD0>"
      ]
     },
     "metadata": {},
     "output_type": "display_data"
    }
   ],
   "source": [
    "my_utils.print_transforms(data_transforms)"
   ]
  },
  {
   "cell_type": "markdown",
   "metadata": {},
   "source": [
    "### Data prep"
   ]
  },
  {
   "cell_type": "markdown",
   "metadata": {},
   "source": [
    "Build dataset:"
   ]
  },
  {
   "cell_type": "code",
   "execution_count": 6,
   "metadata": {},
   "outputs": [],
   "source": [
    "# get files\n",
    "train_dataset = SegmentationDataset(os.path.join(paths['train_data_root'], 'train'), data_transforms['train'])\n",
    "valid_dataset = SegmentationDataset(os.path.join(paths['train_data_root'], 'valid'), data_transforms['valid'])\n",
    "\n",
    "# dataloaders\n",
    "train_dl = DataLoader(train_dataset, batch_size=4, shuffle=True, pin_memory=True, drop_last=True)#, num_workers=24)\n",
    "valid_dl = DataLoader(valid_dataset, batch_size=1, shuffle=False, pin_memory=True)#, num_workers=n_cpu)"
   ]
  },
  {
   "cell_type": "markdown",
   "metadata": {},
   "source": [
    "Plot a few images for example:"
   ]
  },
  {
   "cell_type": "code",
   "execution_count": null,
   "metadata": {},
   "outputs": [],
   "source": [
    "for _ in range(3):\n",
    "    index = random.randint(0, len(train_dataset) - 1)\n",
    "    display_utils.display_sample(train_dataset, index)"
   ]
  },
  {
   "cell_type": "markdown",
   "metadata": {},
   "source": [
    "### Build model\n",
    "Config load:"
   ]
  },
  {
   "cell_type": "code",
   "execution_count": 13,
   "metadata": {},
   "outputs": [],
   "source": [
    "# build model\n",
    "if config['MODE'] == 'train':\n",
    "    model = CatSegModel(config)\n",
    "    \n",
    "elif config['MODE'] == 'load':\n",
    "    # load model from checkpoint\n",
    "    model = CatSegModel.load_from_checkpoint(\n",
    "        checkpoint_path=os.path.join(paths['checkpoint_path'], config['NAME'],config['NAME']+'_best-checkpoint.ckpt'),\n",
    "        #hparams_file=os.path.join(paths['log_path'], 'hparams.yaml')\n",
    "    )\n",
    "\n",
    "# Build the PL trainer:\n",
    "trainer, train_logger = build_trainer(config, paths)\n",
    "\n",
    "test_csv_logger = CSVLogger(paths['log_path'], 'test')\n",
    "trainer.logger = test_csv_logger"
   ]
  },
  {
   "cell_type": "markdown",
   "metadata": {},
   "source": [
    "#### Train and plot convergance:"
   ]
  },
  {
   "cell_type": "code",
   "execution_count": 77,
   "metadata": {},
   "outputs": [],
   "source": [
    "plot_metrics = ['dataset_iou', 'dataset_loss']\n",
    "\n",
    "if config['MODE'] == 'train':\n",
    "    # train using the included logger\n",
    "    trainer.fit(model, \n",
    "        train_dataloaders=train_dl, \n",
    "        val_dataloaders=valid_dl)\n",
    "    \n",
    "    if plot_metrics != None:\n",
    "        pth = os.path.join(train_logger.log_dir, 'metrics.csv')\n",
    "        display_utils.plot_losses(pth, plot_metrics)"
   ]
  },
  {
   "cell_type": "markdown",
   "metadata": {},
   "source": [
    "### Test on Validation data"
   ]
  },
  {
   "cell_type": "code",
   "execution_count": null,
   "metadata": {},
   "outputs": [
    {
     "name": "stderr",
     "output_type": "stream",
     "text": [
      "LOCAL_RANK: 0 - CUDA_VISIBLE_DEVICES: [0]\n",
      "c:\\Users\\Jonathan\\.conda\\envs\\custom_CatSemSeg\\lib\\site-packages\\pytorch_lightning\\trainer\\connectors\\data_connector.py:424: The 'test_dataloader' does not have many workers which may be a bottleneck. Consider increasing the value of the `num_workers` argument` to `num_workers=11` in the `DataLoader` to improve performance.\n"
     ]
    },
    {
     "data": {
      "application/vnd.jupyter.widget-view+json": {
       "model_id": "922594d38c9b48beb597928f2394f052",
       "version_major": 2,
       "version_minor": 0
      },
      "text/plain": [
       "Testing: |          | 0/? [00:00<?, ?it/s]"
      ]
     },
     "metadata": {},
     "output_type": "display_data"
    },
    {
     "name": "stdout",
     "output_type": "stream",
     "text": [
      "────────────────────────────────────────────────────────────────────────────────────────────────────────────────────────\n",
      "       Test metric             DataLoader 0\n",
      "────────────────────────────────────────────────────────────────────────────────────────────────────────────────────────\n",
      "    test_dataset_iou        0.9481183290481567\n",
      "    test_dataset_loss       0.03898388519883156\n",
      "   test_per_image_iou       0.9463781714439392\n",
      "────────────────────────────────────────────────────────────────────────────────────────────────────────────────────────\n"
     ]
    }
   ],
   "source": [
    "model.eval()\n",
    "with torch.no_grad():\n",
    "    trainer.test(model= model, dataloaders = valid_dl)"
   ]
  },
  {
   "cell_type": "markdown",
   "metadata": {},
   "source": [
    "Plot validation preformance:"
   ]
  },
  {
   "cell_type": "code",
   "execution_count": null,
   "metadata": {},
   "outputs": [
    {
     "data": {
      "image/png": "[encoded data removed]",
      "text/plain": [
       "<Figure size 1000x300 with 2 Axes>"
      ]
     },
     "metadata": {},
     "output_type": "display_data"
    }
   ],
   "source": [
    "pth = os.path.join(paths['log_path'], 'test', 'metrics.csv')\n",
    "display_utils.plot_losses(pth, ['image_iou', 'image_loss'], test = True)"
   ]
  },
  {
   "cell_type": "markdown",
   "metadata": {},
   "source": [
    "### Generate marked validation images\n",
    "We will begin by generating the predicted masks on the validation dataset, and save them to disk in `train_data_root\\infer\\NAME`.\n",
    "Also, we will display a few images."
   ]
  },
  {
   "cell_type": "code",
   "execution_count": 19,
   "metadata": {},
   "outputs": [],
   "source": [
    "time = True # should we time this\n",
    "\n",
    "save_pth = os.path.join(paths['train_data_root'], 'infer', config['NAME'])\n",
    "timings = infer_set(model, device, save_pth, dataset=valid_dl.dataset, save=False, to_print=None, time = time, all = True)\n",
    "\n",
    "# save timings\n",
    "if time:\n",
    "    output_file = os.path.join(test_csv_logger.log_dir,'timing.csv')\n",
    "    os.makedirs(test_csv_logger.log_dir, exist_ok=True)\n",
    "    with open(output_file, 'w') as f:\n",
    "        f.write('valid_dataset_v2'+'\\n')\n",
    "        timings.tofile(f, sep='\\n', format='%f')"
   ]
  },
  {
   "cell_type": "markdown",
   "metadata": {},
   "source": [
    "### Out-of-sample Inference\n",
    "For qualiative evaluation we will generate and display images from out-of-dataset.\n",
    "\n",
    "First we need to load the inference dataset `infer_dataset`:"
   ]
  },
  {
   "cell_type": "code",
   "execution_count": null,
   "metadata": {},
   "outputs": [],
   "source": [
    "# build dataset\n",
    "infer_dataset = SegmentationInferenceDataset(paths['inference_data_root'], transform=data_transforms['infer'], is_stereo=True)"
   ]
  },
  {
   "cell_type": "markdown",
   "metadata": {},
   "source": [
    "Generate the masks:"
   ]
  },
  {
   "cell_type": "code",
   "execution_count": 18,
   "metadata": {},
   "outputs": [
    {
     "ename": "NameError",
     "evalue": "name 'infer_dataset' is not defined",
     "output_type": "error",
     "traceback": [
      "\u001b[1;31m---------------------------------------------------------------------------\u001b[0m",
      "\u001b[1;31mNameError\u001b[0m                                 Traceback (most recent call last)",
      "Cell \u001b[1;32mIn[18], line 3\u001b[0m\n\u001b[0;32m      1\u001b[0m time \u001b[38;5;241m=\u001b[39m \u001b[38;5;28;01mFalse\u001b[39;00m \u001b[38;5;66;03m# select\u001b[39;00m\n\u001b[0;32m      2\u001b[0m save_pth \u001b[38;5;241m=\u001b[39m os\u001b[38;5;241m.\u001b[39mpath\u001b[38;5;241m.\u001b[39mjoin(paths[\u001b[38;5;124m'\u001b[39m\u001b[38;5;124minference_save_path\u001b[39m\u001b[38;5;124m'\u001b[39m])\n\u001b[1;32m----> 3\u001b[0m timings \u001b[38;5;241m=\u001b[39m infer_set(model, device, save_pth, dataset\u001b[38;5;241m=\u001b[39m\u001b[43minfer_dataset\u001b[49m, save\u001b[38;5;241m=\u001b[39m\u001b[38;5;28;01mTrue\u001b[39;00m, to_print\u001b[38;5;241m=\u001b[39m\u001b[38;5;241m10\u001b[39m, time \u001b[38;5;241m=\u001b[39m time, \u001b[38;5;28mall\u001b[39m\u001b[38;5;241m=\u001b[39m\u001b[38;5;28;01mTrue\u001b[39;00m)\n\u001b[0;32m      5\u001b[0m \u001b[38;5;66;03m# save timings\u001b[39;00m\n\u001b[0;32m      6\u001b[0m \u001b[38;5;28;01mif\u001b[39;00m time:\n",
      "\u001b[1;31mNameError\u001b[0m: name 'infer_dataset' is not defined"
     ]
    }
   ],
   "source": [
    "time = False # select\n",
    "save_pth = os.path.join(paths['inference_save_path'])\n",
    "timings = infer_set(model, device, save_pth, dataset=infer_dataset, save=True, to_print=10, time = time, all=True)\n",
    "\n",
    "# save timings\n",
    "if time:\n",
    "    output_file = os.path.join(test_csv_logger.log_dir,'timing.csv')\n",
    "    os.makedirs(test_csv_logger.log_dir, exist_ok=True)\n",
    "    with open(output_file, 'w') as f:\n",
    "        f.write('inference_dataset'+'\\n')\n",
    "        timings.tofile(f, sep='\\n', format='%f')"
   ]
  }
 ],
 "metadata": {
  "kernelspec": {
   "display_name": "SemSegCat",
   "language": "python",
   "name": "python3"
  },
  "language_info": {
   "codemirror_mode": {
    "name": "ipython",
    "version": 3
   },
   "file_extension": ".py",
   "mimetype": "text/x-python",
   "name": "python",
   "nbconvert_exporter": "python",
   "pygments_lexer": "ipython3",
   "version": "3.8.19"
  }
 },
 "nbformat": 4,
 "nbformat_minor": 2
}
