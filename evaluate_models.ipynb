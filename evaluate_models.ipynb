{
 "cells": [
  {
   "cell_type": "code",
   "execution_count": null,
   "metadata": {},
   "outputs": [],
   "source": [
    "import torch\n",
    "from torch.utils.benchmark import Timer\n",
    "\n",
    "# Assuming you have a model and input tensor\n",
    "model = torch.load('your_model.pth')  # Load your model\n",
    "input_tensor = torch.randn(1, 3, 224, 224)  # Example input tensor\n",
    "\n",
    "# Set the model to evaluation mode\n",
    "model.eval()\n",
    "\n",
    "# Create a timer\n",
    "timer = Timer()\n",
    "\n",
    "# Measure inference time\n",
    "with torch.no_grad():\n",
    "    timer.start()\n",
    "    output = model(input_tensor)\n",
    "    timer.stop()"
   ]
  },
  {
   "cell_type": "markdown",
   "metadata": {},
   "source": [
    "## Model Evaluation\n",
    "\n",
    "This notebook will evaluate models trained from the previous parts.\n",
    "\n",
    "\n",
    "### 1. Training convergance\n",
    "\n",
    "We will look at the loss of the model vs. epoch to determine how many epochs (more or less) are needed for training. Unet with ResNet34 pre-trained encoder."
   ]
  },
  {
   "cell_type": "markdown",
   "metadata": {},
   "source": [
    "### 2. Effect of transformation:\n",
    "`Transforms_v0` vs `Transforms_v1` using Unet with ResNet 34 encoder.\n",
    "\n",
    "Average metrics"
   ]
  },
  {
   "cell_type": "markdown",
   "metadata": {},
   "source": [
    "Histogram"
   ]
  },
  {
   "cell_type": "markdown",
   "metadata": {},
   "source": [
    "Generalization on test images"
   ]
  },
  {
   "cell_type": "markdown",
   "metadata": {},
   "source": [
    "### 3. Effect of loss function\n",
    "`DiceLoss` vs `EdgeDice` using Unet with ResNet 34 encoder.\n",
    "\n",
    "Average metrics"
   ]
  },
  {
   "cell_type": "markdown",
   "metadata": {},
   "source": [
    "Histogram"
   ]
  },
  {
   "cell_type": "markdown",
   "metadata": {},
   "source": [
    "#### Interim conclusions\n",
    "* what loss\n",
    "* transform?\n",
    "\n",
    "### 4. Model comparison\n",
    "Comapre models: \n",
    "* inference time on test images\n",
    "* histograms\n",
    "* metrics\n",
    "\n",
    "#### Qualitative comparison111"
   ]
  }
 ],
 "metadata": {
  "language_info": {
   "name": "python"
  }
 },
 "nbformat": 4,
 "nbformat_minor": 2
}
