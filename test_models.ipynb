{
 "cells": [
  {
   "cell_type": "code",
   "execution_count": null,
   "metadata": {},
   "outputs": [],
   "source": [
    "import torch\n",
    "from torch.utils.benchmark import Timer\n",
    "\n",
    "# Assuming you have a model and input tensor\n",
    "model = torch.load('your_model.pth')  # Load your model\n",
    "input_tensor = torch.randn(1, 3, 224, 224)  # Example input tensor\n",
    "\n",
    "# Set the model to evaluation mode\n",
    "model.eval()\n",
    "\n",
    "# Create a timer\n",
    "timer = Timer()\n",
    "\n",
    "# Measure inference time\n",
    "with torch.no_grad():\n",
    "    timer.start()\n",
    "    output = model(input_tensor)\n",
    "    timer.stop()"
   ]
  }
 ],
 "metadata": {
  "language_info": {
   "name": "python"
  }
 },
 "nbformat": 4,
 "nbformat_minor": 2
}
